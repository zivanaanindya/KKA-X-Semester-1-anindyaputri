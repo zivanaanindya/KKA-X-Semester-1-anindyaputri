{
  "nbformat": 4,
  "nbformat_minor": 0,
  "metadata": {
    "colab": {
      "provenance": [],
      "authorship_tag": "ABX9TyNDklRrJJeTBKnj2ux/A6gv",
      "include_colab_link": true
    },
    "kernelspec": {
      "name": "python3",
      "display_name": "Python 3"
    },
    "language_info": {
      "name": "python"
    }
  },
  "cells": [
    {
      "cell_type": "markdown",
      "metadata": {
        "id": "view-in-github",
        "colab_type": "text"
      },
      "source": [
        "<a href=\"https://colab.research.google.com/github/zivanaanindya/KKA-X-Semester-1-anindyaputri/blob/main/1_fungsi_printZivana_Anindya_R_P_X_2.ipynb\" target=\"_parent\"><img src=\"https://colab.research.google.com/assets/colab-badge.svg\" alt=\"Open In Colab\"/></a>"
      ]
    },
    {
      "cell_type": "code",
      "execution_count": null,
      "metadata": {
        "id": "1NHmUxlEpiaY"
      },
      "outputs": [],
      "source": []
    },
    {
      "cell_type": "markdown",
      "source": [
        "Nama:Zivana anindya\n",
        "\n",
        "kelas:x-2\n",
        "\n",
        "no.absen:36"
      ],
      "metadata": {
        "id": "zeXn79-Ppmai"
      }
    },
    {
      "cell_type": "markdown",
      "source": [
        "#Menampilkan teks bebas"
      ],
      "metadata": {
        "id": "VxVH_nhu7Y8U"
      }
    },
    {
      "cell_type": "code",
      "source": [
        "print(\"Hallo world\")"
      ],
      "metadata": {
        "colab": {
          "base_uri": "https://localhost:8080/"
        },
        "id": "K6RUwSTPpr_n",
        "outputId": "521347e7-11e7-4b2a-ebe7-25a0f5b9d2e6"
      },
      "execution_count": null,
      "outputs": [
        {
          "output_type": "stream",
          "name": "stdout",
          "text": [
            "Hallo world\n"
          ]
        }
      ]
    },
    {
      "cell_type": "markdown",
      "source": [
        "#Menampilkan Nilai Variable"
      ],
      "metadata": {
        "id": "QHTbjdjDpyH2"
      }
    },
    {
      "cell_type": "code",
      "source": [
        "berat_badan=60\n",
        "print(berat_badan)"
      ],
      "metadata": {
        "colab": {
          "base_uri": "https://localhost:8080/"
        },
        "id": "KqJDBeQ1p3DE",
        "outputId": "382ad19d-1244-493b-e647-f1b8a0ca9342"
      },
      "execution_count": null,
      "outputs": [
        {
          "output_type": "stream",
          "name": "stdout",
          "text": [
            "60\n"
          ]
        }
      ]
    },
    {
      "cell_type": "code",
      "source": [
        "nama=\"zivana anindya\"\n",
        "print(nama)"
      ],
      "metadata": {
        "colab": {
          "base_uri": "https://localhost:8080/"
        },
        "id": "udGCIS22qEBE",
        "outputId": "b1ee1ab2-e828-4d1c-cf06-20a63286b7d9"
      },
      "execution_count": null,
      "outputs": [
        {
          "output_type": "stream",
          "name": "stdout",
          "text": [
            "zivana anindya\n"
          ]
        }
      ]
    },
    {
      "cell_type": "markdown",
      "source": [
        "#Menampilkan teks bebas dan variabel"
      ],
      "metadata": {
        "id": "gRnIpNdDqPtB"
      }
    },
    {
      "cell_type": "code",
      "source": [
        "print(\"perkenalkan nama saya, \" + nama + \".\")"
      ],
      "metadata": {
        "colab": {
          "base_uri": "https://localhost:8080/"
        },
        "id": "avU44uv1qVXa",
        "outputId": "d03af819-5a4f-4c51-bde4-e1090b2329aa"
      },
      "execution_count": null,
      "outputs": [
        {
          "output_type": "stream",
          "name": "stdout",
          "text": [
            "perkenalkan nama saya, zivana anindya.\n"
          ]
        }
      ]
    },
    {
      "cell_type": "code",
      "source": [
        "print(\"berat badan saya adalah \" + str(berat_badan) + \"kg.\")"
      ],
      "metadata": {
        "colab": {
          "base_uri": "https://localhost:8080/"
        },
        "id": "qiHuilhar6wu",
        "outputId": "1dbf48f3-5f61-48c9-b4c5-7c106dbb1b51"
      },
      "execution_count": null,
      "outputs": [
        {
          "output_type": "stream",
          "name": "stdout",
          "text": [
            "berat badan saya adalah 60kg.\n"
          ]
        }
      ]
    },
    {
      "cell_type": "code",
      "source": [
        "print(f\"perkenalkan nama saya {nama} . \")"
      ],
      "metadata": {
        "colab": {
          "base_uri": "https://localhost:8080/"
        },
        "id": "BML6REyksjxZ",
        "outputId": "d720449b-932f-4388-ba64-e1a11750d60a"
      },
      "execution_count": null,
      "outputs": [
        {
          "output_type": "stream",
          "name": "stdout",
          "text": [
            "perkenalkan nama saya zivana anindya . \n"
          ]
        }
      ]
    },
    {
      "cell_type": "code",
      "source": [
        "print(f\"berat badan saya adalah {berat_badan} . \")"
      ],
      "metadata": {
        "colab": {
          "base_uri": "https://localhost:8080/"
        },
        "id": "FqRH5UOQswOK",
        "outputId": "011243c0-041c-4abc-9209-72c2d8ebd687"
      },
      "execution_count": null,
      "outputs": [
        {
          "output_type": "stream",
          "name": "stdout",
          "text": [
            "berat badan saya adalah 60 . \n"
          ]
        }
      ]
    },
    {
      "cell_type": "markdown",
      "source": [
        "#Eschape Character"
      ],
      "metadata": {
        "id": "2U5-2PPBs-a2"
      }
    },
    {
      "cell_type": "code",
      "source": [
        "print(\"nama : zivana anindya\\nkelas x-2\\nno.absen : 36\")"
      ],
      "metadata": {
        "colab": {
          "base_uri": "https://localhost:8080/"
        },
        "id": "Z6m3DapOtDl6",
        "outputId": "acfb93a8-2b7b-4b8d-d1ee-753690936241"
      },
      "execution_count": null,
      "outputs": [
        {
          "output_type": "stream",
          "name": "stdout",
          "text": [
            "nama : zivana anindya\n",
            "kelas x-2\n",
            "no.absen : 36\n"
          ]
        }
      ]
    },
    {
      "cell_type": "code",
      "source": [
        "print(\"nama : zivana anindya\")\n",
        "print(\"kelas : x-2\")\n",
        "print(\"no.absen: 36\")"
      ],
      "metadata": {
        "colab": {
          "base_uri": "https://localhost:8080/"
        },
        "id": "lfTF9jY_tTxY",
        "outputId": "0c5c9bdb-8bdd-4c40-af03-013506840ef4"
      },
      "execution_count": null,
      "outputs": [
        {
          "output_type": "stream",
          "name": "stdout",
          "text": [
            "nama : zivana anindya\n",
            "kelas : x-2\n",
            "no.absen: 36\n"
          ]
        }
      ]
    },
    {
      "cell_type": "code",
      "source": [
        "print(\"\"\"nama : zivana anindya\n",
        "kelas : x-2\n",
        "no.absen : 36\"\"\")"
      ],
      "metadata": {
        "colab": {
          "base_uri": "https://localhost:8080/"
        },
        "id": "1CRhjXoNtgW6",
        "outputId": "da0108f4-cd88-42a3-e044-52c5479d8a81"
      },
      "execution_count": null,
      "outputs": [
        {
          "output_type": "stream",
          "name": "stdout",
          "text": [
            "nama : zivana anindya\n",
            "kelas : x-2\n",
            "no.absen : 36\n"
          ]
        }
      ]
    },
    {
      "cell_type": "code",
      "source": [
        "print(\"nama\\t\\t:zivana anindya \\nkelas\\t\\t :x-2 \\nno.absen\\t :46\")"
      ],
      "metadata": {
        "colab": {
          "base_uri": "https://localhost:8080/"
        },
        "id": "7V39qkketprR",
        "outputId": "261a2a19-8c0a-4fa5-8454-4e9952b17f3e"
      },
      "execution_count": null,
      "outputs": [
        {
          "output_type": "stream",
          "name": "stdout",
          "text": [
            "nama\t\t:zivana anindya \n",
            "kelas\t\t :x-2 \n",
            "no.absen\t :46\n"
          ]
        }
      ]
    },
    {
      "cell_type": "markdown",
      "source": [
        "#nama:zivana anindya\n",
        "#kelas:x-2\n",
        "#no.absen:36"
      ],
      "metadata": {
        "id": "SRUhlW9auDQ4"
      }
    },
    {
      "cell_type": "code",
      "source": [
        "print(\"Jadwal Pelajaran Mingguan\")"
      ],
      "metadata": {
        "colab": {
          "base_uri": "https://localhost:8080/"
        },
        "id": "KoUDd1TRuLCe",
        "outputId": "e3981b16-b1b2-4faf-fbdd-a44b0626ef02"
      },
      "execution_count": null,
      "outputs": [
        {
          "output_type": "stream",
          "name": "stdout",
          "text": [
            "Jadwal Pelajaran Mingguan\n"
          ]
        }
      ]
    },
    {
      "cell_type": "code",
      "source": [
        "print(\"===============================\")"
      ],
      "metadata": {
        "colab": {
          "base_uri": "https://localhost:8080/"
        },
        "id": "wvf9PmSVuag7",
        "outputId": "0a816a5f-661f-4c39-f66f-f79e6e8ff96a"
      },
      "execution_count": null,
      "outputs": [
        {
          "output_type": "stream",
          "name": "stdout",
          "text": [
            "===============================\n"
          ]
        }
      ]
    },
    {
      "cell_type": "code",
      "source": [
        "print(\"Jam\\tSenin\\t\\tSelasa\\t\\tRabu\")"
      ],
      "metadata": {
        "colab": {
          "base_uri": "https://localhost:8080/"
        },
        "id": "KqgwwSX7ufn7",
        "outputId": "d253d298-975b-41e9-9146-6577af8ba15f"
      },
      "execution_count": null,
      "outputs": [
        {
          "output_type": "stream",
          "name": "stdout",
          "text": [
            "Jam\tSenin\t\tSelasa\t\tRabu\n"
          ]
        }
      ]
    },
    {
      "cell_type": "code",
      "source": [
        "print(\"Jam 1\\tMatematika\\tBahasa\\t\\tInformatika\")"
      ],
      "metadata": {
        "colab": {
          "base_uri": "https://localhost:8080/"
        },
        "id": "XnZezB_JupDK",
        "outputId": "db2c9ef3-882e-4a5c-81c7-8ed273b6c417"
      },
      "execution_count": null,
      "outputs": [
        {
          "output_type": "stream",
          "name": "stdout",
          "text": [
            "Jam 1\tMatematika\tBahasa\t\tInformatika\n"
          ]
        }
      ]
    },
    {
      "cell_type": "code",
      "source": [
        "print(\"Jam 2\\tBahasa Ing.\\tSejarah\\t\\tMa\\'rifatullah\")"
      ],
      "metadata": {
        "colab": {
          "base_uri": "https://localhost:8080/"
        },
        "id": "MFWB45O7uqob",
        "outputId": "4d9aeaac-254e-4fc9-9b52-94149caaeac7"
      },
      "execution_count": null,
      "outputs": [
        {
          "output_type": "stream",
          "name": "stdout",
          "text": [
            "Jam 2\tBahasa Ing.\tSejarah\t\tMa'rifatullah\n"
          ]
        }
      ]
    },
    {
      "cell_type": "code",
      "source": [
        "print(\"Jam 3\\tInformatika\\tOlahraga\\tBiologi\")"
      ],
      "metadata": {
        "colab": {
          "base_uri": "https://localhost:8080/"
        },
        "id": "_L94Ta-WuwuM",
        "outputId": "631c51b1-3fbd-41b5-9dc1-655ecf265e79"
      },
      "execution_count": null,
      "outputs": [
        {
          "output_type": "stream",
          "name": "stdout",
          "text": [
            "Jam 3\tInformatika\tOlahraga\tBiologi\n"
          ]
        }
      ]
    },
    {
      "cell_type": "code",
      "source": [
        "\n",
        "print(\"Jadwal Pelajaran Mingguan\")\n",
        "print(\"===============================\")\n",
        "print(\"Jam\\tSenin\\t\\tSelasa\\t\\tRabu\")\n",
        "print(\"Jam 1\\tMatematika\\tBahasa\\t\\tInformatika\")\n",
        "print(\"Jam 2\\tBahasa Ing.\\tSejarah\\t\\tMa\\'rifatullah\")\n",
        "print(\"Jam 3\\tInformatika\\tOlahraga\\tBiologi\")"
      ],
      "metadata": {
        "colab": {
          "base_uri": "https://localhost:8080/"
        },
        "id": "sc7c2JFKu1ct",
        "outputId": "320860d9-7cf7-438a-fcb2-cc4355539128"
      },
      "execution_count": null,
      "outputs": [
        {
          "output_type": "stream",
          "name": "stdout",
          "text": [
            "Jadwal Pelajaran Mingguan\n",
            "===============================\n",
            "Jam\tSenin\t\tSelasa\t\tRabu\n",
            "Jam 1\tMatematika\tBahasa\t\tInformatika\n",
            "Jam 2\tBahasa Ing.\tSejarah\t\tMa'rifatullah\n",
            "Jam 3\tInformatika\tOlahraga\tBiologi\n"
          ]
        }
      ]
    },
    {
      "cell_type": "markdown",
      "source": [
        "#Parameter Fungsi Print"
      ],
      "metadata": {
        "id": "cqEzNStv0kIs"
      }
    },
    {
      "cell_type": "code",
      "source": [
        "nama_siswa_1 = \"jielo\"\n",
        "nama_siswa_2 = \"aida\"\n",
        "nama_siswa_3 = \"dani\"\n",
        "\n",
        "print(nama_siswa_1, end=\"-\")\n",
        "print(nama_siswa_2, end=\"-\")\n",
        "print(nama_siswa_3)"
      ],
      "metadata": {
        "colab": {
          "base_uri": "https://localhost:8080/"
        },
        "id": "kbp9tGhz0oZw",
        "outputId": "abb70f4f-8a1b-42fa-db39-dcb9f151f695"
      },
      "execution_count": null,
      "outputs": [
        {
          "output_type": "stream",
          "name": "stdout",
          "text": [
            "jielo-aida-dani\n"
          ]
        }
      ]
    },
    {
      "cell_type": "code",
      "source": [
        "nama_siswa_1 =\"jielo\"\n",
        "nama_siswa_2 =\"aida\"\n",
        "nama_siswa_3 =\"dani\"\n",
        "nama_siswa_4 =\"nurul\"\n",
        "\n",
        "print(nama_siswa_4, end=\"/\")\n",
        "print(nama_siswa_2, end=\"/\")\n",
        "print(nama_siswa_1, end=\"/\")\n",
        "print(nama_siswa_3)"
      ],
      "metadata": {
        "colab": {
          "base_uri": "https://localhost:8080/"
        },
        "id": "WIR26iYO1fxl",
        "outputId": "40e63088-bc09-4f7a-d24e-4d33014a1482"
      },
      "execution_count": null,
      "outputs": [
        {
          "output_type": "stream",
          "name": "stdout",
          "text": [
            "nurul/aida/jielo/dani\n"
          ]
        }
      ]
    },
    {
      "cell_type": "code",
      "source": [
        "nama_siswa_5 =\"hasbi\"\n",
        "nama_siswa_6 =\"habibi\"\n",
        "nama_siswa_7 =\"rendra\"\n",
        "nama_siswa_8 =\"naufal\"\n",
        "\n",
        "print(nama_siswa_5, nama_siswa_8, nama_siswa_7, nama_siswa_6, nama_siswa_8, sep=\"*\")"
      ],
      "metadata": {
        "colab": {
          "base_uri": "https://localhost:8080/"
        },
        "id": "gFdBDjMt3dCn",
        "outputId": "08928b0c-be9a-49e1-8477-ee40b6311670"
      },
      "execution_count": null,
      "outputs": [
        {
          "output_type": "stream",
          "name": "stdout",
          "text": [
            "hasbi*naufal*rendra*habibi*naufal\n"
          ]
        }
      ]
    },
    {
      "cell_type": "code",
      "source": [
        "nama_siswa_5 =\"hasbi\"\n",
        "nama_siswa_6 =\"habibi\"\n",
        "nama_siswa_7 =\"rendra\"\n",
        "nama_siswa_8 =\"naufal\"\n",
        "\n",
        "print(nama_siswa_8, nama_siswa_7, nama_siswa_5, nama_siswa_6, sep=\"-\")"
      ],
      "metadata": {
        "colab": {
          "base_uri": "https://localhost:8080/"
        },
        "id": "qjYK2AP64QnW",
        "outputId": "731dd3d1-3c50-43a0-cead-aa37f63d9f4a"
      },
      "execution_count": null,
      "outputs": [
        {
          "output_type": "stream",
          "name": "stdout",
          "text": [
            "naufal-rendra-hasbi-habibi\n"
          ]
        }
      ]
    },
    {
      "cell_type": "code",
      "source": [
        "print('Bu Shinta berkata,\"berikut adalah daftar piket harian kelas X-2 yang disimpan di file D:/MAN Demak/Jadwal piket.\"\\n')\n",
        "print(\"senin\\tselasa\\trabu\")\n",
        "print(\"jielo\\thasbi\\tnaufal\")\n",
        "print(\"azam\\taida\\tnurul\")"
      ],
      "metadata": {
        "colab": {
          "base_uri": "https://localhost:8080/"
        },
        "id": "E4grnAeR7gsz",
        "outputId": "67eb5235-19a2-4832-ea9e-b3cf5f462c44"
      },
      "execution_count": null,
      "outputs": [
        {
          "output_type": "stream",
          "name": "stdout",
          "text": [
            "Bu Shinta berkata,\"berikut adalah daftar piket harian kelas X-2 yang disimpan di file D:/MAN Demak/Jadwal piket.\"\n",
            "\n",
            "senin\tselasa\trabu\n",
            "jielo\thasbi\tnaufal\n",
            "azam\taida\tnurul\n"
          ]
        }
      ]
    },
    {
      "cell_type": "code",
      "source": [],
      "metadata": {
        "id": "FTN7xkjl6M0P"
      },
      "execution_count": null,
      "outputs": []
    }
  ]
}